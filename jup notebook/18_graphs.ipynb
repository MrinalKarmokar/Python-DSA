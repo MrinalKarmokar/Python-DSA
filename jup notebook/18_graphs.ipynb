{
 "cells": [
  {
   "cell_type": "markdown",
   "metadata": {},
   "source": [
    "# Graphs"
   ]
  },
  {
   "cell_type": "markdown",
   "metadata": {},
   "source": [
    "A graph is a pictorial representation of a set of objects where some pairs of objects are connected by links. The interconnected objects are represented by points termed as <b>vertices</b>, and the links that connect the vertices are called <b>edges</b>."
   ]
  },
  {
   "cell_type": "markdown",
   "metadata": {},
   "source": [
    "##### Graph Class"
   ]
  },
  {
   "cell_type": "code",
   "execution_count": 24,
   "metadata": {},
   "outputs": [],
   "source": [
    "class Graph:\n",
    "    def __init__(self, gdict=None):\n",
    "        if gdict is None:\n",
    "            gdict = []\n",
    "        self.gdict = gdict\n",
    "    \n",
    "    def get_vertices(self):\n",
    "        return list(self.gdict.keys())\n",
    "    \n",
    "    def get_edges(self):\n",
    "        return self.find_edges()\n",
    "\n",
    "    def find_edges(self):\n",
    "        edgename = []\n",
    "        for vert in self.gdict:\n",
    "            for nextvert in self.gdict[vert]:\n",
    "                if {nextvert, vert} not in edgename:\n",
    "                    edgename.append({vert, nextvert})\n",
    "        \n",
    "        return edgename\n",
    "    \n",
    "    def add_vertices(self,vert):\n",
    "        if vert not in self.gdict:\n",
    "            self.gdict[vert] = []\n",
    "        print(f\"Added vertices: {vert}\")\n",
    "\n",
    "    def add_edges(self, edges):\n",
    "        edges = set(edges)\n",
    "        (vert1, vert2) = tuple(edges)\n",
    "        if vert1 in self.gdict:\n",
    "            self.gdict[vert1].append(vert2)\n",
    "        else:\n",
    "            self.gdict[vert1] = [vert2]"
   ]
  },
  {
   "cell_type": "markdown",
   "metadata": {},
   "source": [
    "##### Main function"
   ]
  },
  {
   "cell_type": "code",
   "execution_count": 25,
   "metadata": {},
   "outputs": [
    {
     "name": "stdout",
     "output_type": "stream",
     "text": [
      "Graph elements: {'a': ['b', 'c'], 'b': ['a', 'd'], 'c': ['a', 'd'], 'd': ['e'], 'e': ['d, ']}\n",
      "Vertices: ['a', 'b', 'c', 'd', 'e']\n",
      "Edges: [{'a', 'b'}, {'c', 'a'}, {'d', 'b'}, {'c', 'd'}, {'d', 'e'}, {'e', 'd, '}, {'a', 'e'}]\n",
      "Added vertices: f\n"
     ]
    }
   ],
   "source": [
    "def main():\n",
    "    graph_elements = { \n",
    "    \"a\" : [\"b\",\"c\"],\n",
    "    \"b\" : [\"a\", \"d\"],\n",
    "    \"c\" : [\"a\", \"d\"],\n",
    "    \"d\" : [\"e\"],\n",
    "    \"e\" : [\"d, \"]\n",
    "    }\n",
    "\n",
    "    print(f\"Graph elements: {graph_elements}\")\n",
    "    g = Graph(graph_elements)\n",
    "    print(f\"Vertices: {g.get_vertices()}\")\n",
    "    g.add_edges({'a','e'})\n",
    "    g.add_edges({'a','c'})\n",
    "    print(f\"Edges: {g.get_edges()}\")\n",
    "    g.add_vertices(\"f\")\n",
    "\n",
    "if __name__ == \"__main__\":\n",
    "    main()"
   ]
  }
 ],
 "metadata": {
  "interpreter": {
   "hash": "cf32b4f69c54e9c863acccea1de3d06ac54c2fb2e0fc81f8bc9e3d09ff7ef19d"
  },
  "kernelspec": {
   "display_name": "Python 3.9.7 64-bit ('base': conda)",
   "language": "python",
   "name": "python3"
  },
  "language_info": {
   "codemirror_mode": {
    "name": "ipython",
    "version": 3
   },
   "file_extension": ".py",
   "mimetype": "text/x-python",
   "name": "python",
   "nbconvert_exporter": "python",
   "pygments_lexer": "ipython3",
   "version": "3.9.7"
  },
  "orig_nbformat": 4
 },
 "nbformat": 4,
 "nbformat_minor": 2
}
