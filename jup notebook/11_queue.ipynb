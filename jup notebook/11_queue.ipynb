{
 "cells": [
  {
   "cell_type": "markdown",
   "metadata": {},
   "source": [
    "# Queue"
   ]
  },
  {
   "cell_type": "markdown",
   "metadata": {},
   "source": [
    "Like stack, queue is a linear data structure that stores items in <b>First In First Out (FIFO) manner</b>. With a queue the least recently added item is removed first. A good example of queue is any queue of consumers for a resource where the consumer that came first is served first.\n",
    "\n",
    "<b>Functions</b> associated with queue are: \n",
    "1) <b>enqueue(data)</b>: Adds an item 'data' to the queue. If the queue is full, then it is said to be an Overflow condition – Time Complexity : O(1)\n",
    "2) <b>dequeue()</b>: Removes an item from the queue. The items are popped in the same order in which they are pushed. If the queue is empty, then it is said to be an Underflow condition – Time Complexity : O(1)\n",
    "3) <b>size()</b>: Returns the size of the queue"
   ]
  },
  {
   "cell_type": "markdown",
   "metadata": {},
   "source": [
    "##### Queue Class"
   ]
  },
  {
   "cell_type": "code",
   "execution_count": 1,
   "metadata": {},
   "outputs": [],
   "source": [
    "class Queue:\n",
    "    def __init__(self):\n",
    "        self.queue = []\n",
    "\n",
    "    def enqueue(self,data):\n",
    "        if data not in self.queue:\n",
    "            self.queue.insert(0,data)\n",
    "            return True\n",
    "        return False\n",
    "    \n",
    "    def dequeue(self):\n",
    "        if len(self.queue)>0:\n",
    "            return self.queue.pop()\n",
    "        return (\"No elememts in queue\")\n",
    "\n",
    "    def size(self):\n",
    "        return len(self.queue)"
   ]
  },
  {
   "cell_type": "markdown",
   "metadata": {},
   "source": [
    "##### Main function"
   ]
  },
  {
   "cell_type": "code",
   "execution_count": 2,
   "metadata": {},
   "outputs": [
    {
     "name": "stdout",
     "output_type": "stream",
     "text": [
      "3\n",
      "Mon\n",
      "Tues\n",
      "1\n"
     ]
    }
   ],
   "source": [
    "def main():\n",
    "    Q = Queue()\n",
    "    Q.enqueue(\"Mon\")\n",
    "    Q.enqueue(\"Tues\")\n",
    "    Q.enqueue(\"Wed\")\n",
    "    print(Q.size())\n",
    "    print(Q.dequeue())\n",
    "    print(Q.dequeue())\n",
    "    print(Q.size())\n",
    "\n",
    "\n",
    "if __name__ == '__main__':\n",
    "    main()"
   ]
  }
 ],
 "metadata": {
  "interpreter": {
   "hash": "cf32b4f69c54e9c863acccea1de3d06ac54c2fb2e0fc81f8bc9e3d09ff7ef19d"
  },
  "kernelspec": {
   "display_name": "Python 3.9.7 64-bit ('base': conda)",
   "language": "python",
   "name": "python3"
  },
  "language_info": {
   "codemirror_mode": {
    "name": "ipython",
    "version": 3
   },
   "file_extension": ".py",
   "mimetype": "text/x-python",
   "name": "python",
   "nbconvert_exporter": "python",
   "pygments_lexer": "ipython3",
   "version": "3.9.7"
  },
  "orig_nbformat": 4
 },
 "nbformat": 4,
 "nbformat_minor": 2
}
