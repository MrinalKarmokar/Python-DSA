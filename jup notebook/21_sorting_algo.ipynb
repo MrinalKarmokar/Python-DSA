{
 "cells": [
  {
   "cell_type": "markdown",
   "metadata": {},
   "source": [
    "# Sorting Algorithms\n",
    "1) Bubble Sort\n",
    "2) Merge Sort\n",
    "3) Insertion Sort\n",
    "4) Selection Sort"
   ]
  },
  {
   "cell_type": "markdown",
   "metadata": {},
   "source": [
    "##### 1. Bubble Sort\n",
    "Bubble Sort is the simplest sorting algorithm that works by repeatedly swapping the adjacent elements if they are in wrong order.\n",
    "\n",
    "<b>Worst and Average Case Time Complexity: O(n^2)\n",
    "\n",
    "Best Case Time Complexity: O(n)</b>"
   ]
  },
  {
   "cell_type": "code",
   "execution_count": 6,
   "metadata": {},
   "outputs": [],
   "source": [
    "def bubble_sort(list):\n",
    "\n",
    "    for i in range(len(list)):\n",
    "        for j in range(i+1,len(list)):\n",
    "            if list[i] > list[j]:\n",
    "                list[i] , list[j] = list[j] , list[i]\n",
    "\n",
    "    return list"
   ]
  },
  {
   "cell_type": "markdown",
   "metadata": {},
   "source": [
    "##### 2. Merge Sort\n",
    "Merge Sort is a <b>Divide and Conquer algorithm</b>. It divides the input array into two halves, calls itself for the two halves, and then merges the two sorted halves.\n",
    "\n",
    "<b>Time complexity: θ(nLogn)</b>"
   ]
  },
  {
   "cell_type": "code",
   "execution_count": 7,
   "metadata": {},
   "outputs": [],
   "source": [
    "def merge_sort(unsorted_list):\n",
    "    if len(unsorted_list)<=1:\n",
    "        return unsorted_list\n",
    "    \n",
    "    middle = len(unsorted_list)//2\n",
    "    left_list = unsorted_list[:middle]\n",
    "    right_list = unsorted_list[middle:]\n",
    "\n",
    "    left_list = merge_sort(left_list)\n",
    "    right_list = merge_sort(right_list)\n",
    "    return __merge_list(left_list, right_list)\n",
    "\n",
    "def __merge_list(left_list, right_list):\n",
    "    res = []\n",
    "    while len(left_list) != 0 and len(right_list) != 0:\n",
    "        if left_list[0]<right_list[0]:\n",
    "            res.append(left_list[0])\n",
    "            left_list.remove(left_list[0])\n",
    "        else:\n",
    "            res.append(right_list[0])\n",
    "            left_list.remove(right_list[0])\n",
    "    if len(left_list) == 0:\n",
    "        res = res + right_list\n",
    "    else:\n",
    "        res = res + left_list\n",
    "    \n",
    "    return res"
   ]
  },
  {
   "cell_type": "markdown",
   "metadata": {},
   "source": [
    "##### 3. Insertion Sort\n",
    "Insertion sort involves finding the right place for a given element in a sorted list. So in beginning we compare the first two elements and sort them by comparing them. Then we pick the third element and find its proper position among the previous two sorted elements.\n",
    "\n",
    "<b>Time Complexity: O(n^2)</b>"
   ]
  },
  {
   "cell_type": "code",
   "execution_count": 8,
   "metadata": {},
   "outputs": [],
   "source": [
    "def insertion_sort(list):\n",
    "    for i in range(1, len(list)):\n",
    "        j = i - 1\n",
    "        next_ele = list[i]\n",
    "    \n",
    "    while(list[j]>next_ele) and (j>=0):\n",
    "        list[j+1] = list[j]\n",
    "        j = j - 1\n",
    "\n",
    "    list[j+1] = next_ele\n",
    "\n",
    "    return list    "
   ]
  },
  {
   "cell_type": "markdown",
   "metadata": {},
   "source": [
    "##### 4. Selection Sort\n",
    "The selection sort algorithm sorts an array by repeatedly finding the minimum element from unsorted part and putting it at the beginning.\n",
    "\n",
    "<b>Time Complexity: O(n^2)</b> as there are two nested loops."
   ]
  },
  {
   "cell_type": "code",
   "execution_count": 9,
   "metadata": {},
   "outputs": [],
   "source": [
    "def selection_sort(input_list):\n",
    "    for idx in range(len(input_list)):\n",
    "        min_idx = idx   \n",
    "        for j in range(idx+1,len(input_list)):\n",
    "            if input_list[min_idx]>input_list[j]:\n",
    "                min_idx = j\n",
    "            input_list[idx], input_list[min_idx] = input_list[min_idx], input_list[idx]\n",
    "    \n",
    "    return input_list"
   ]
  },
  {
   "cell_type": "markdown",
   "metadata": {},
   "source": [
    "##### Main function"
   ]
  },
  {
   "cell_type": "code",
   "execution_count": 10,
   "metadata": {},
   "outputs": [
    {
     "name": "stdout",
     "output_type": "stream",
     "text": [
      "Bubble Sort:    [2, 6, 11, 19, 27, 31, 45, 121]\n",
      "Merge Sort:     [2, 6, 11, 19, 27, 31, 45, 121]\n",
      "Insertion Sort: [2, 6, 11, 19, 27, 31, 45, 121]\n",
      "Selection Sort: [2, 6, 11, 19, 27, 31, 45, 121]\n"
     ]
    }
   ],
   "source": [
    "def main():\n",
    "    lst = [19,2,31,45,6,11,121,27]\n",
    "\n",
    "    print(f\"Bubble Sort:    {bubble_sort(lst)}\")\n",
    "    print(f\"Merge Sort:     {merge_sort(lst)}\")\n",
    "    print(f\"Insertion Sort: {insertion_sort(lst)}\")\n",
    "    print(f\"Selection Sort: {insertion_sort(lst)}\")\n",
    "\n",
    "if __name__ == \"__main__\":\n",
    "    main()"
   ]
  }
 ],
 "metadata": {
  "interpreter": {
   "hash": "cf32b4f69c54e9c863acccea1de3d06ac54c2fb2e0fc81f8bc9e3d09ff7ef19d"
  },
  "kernelspec": {
   "display_name": "Python 3 (ipykernel)",
   "language": "python",
   "name": "python3"
  },
  "language_info": {
   "codemirror_mode": {
    "name": "ipython",
    "version": 3
   },
   "file_extension": ".py",
   "mimetype": "text/x-python",
   "name": "python",
   "nbconvert_exporter": "python",
   "pygments_lexer": "ipython3",
   "version": "3.9.7"
  }
 },
 "nbformat": 4,
 "nbformat_minor": 2
}
