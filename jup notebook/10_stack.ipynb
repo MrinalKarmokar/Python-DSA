{
 "cells": [
  {
   "cell_type": "markdown",
   "metadata": {},
   "source": [
    "# Stack"
   ]
  },
  {
   "cell_type": "markdown",
   "metadata": {},
   "source": [
    "A stack is a linear data structure that stores items in a <b>Last-In/First-Out (LIFO) or First-In/Last-Out (FILO) manner</b>. In stack, a new element is pushed at one end and an element is popd from that end only. The insert and delete operations are often called push and pop.\n",
    "\n",
    "The <b>functions</b> associated with stack are:\n",
    "1) <b>top()</b> – Returns a reference to the topmost element of the stack – Time Complexity: O(1)\n",
    "2) <b>push(data)</b> – Inserts the element ‘data’ at the top of the stack – Time Complexity: O(1)\n",
    "3) <b>pop()</b> – Deletes the topmost element of the stack – Time Complexity: O(1)"
   ]
  },
  {
   "cell_type": "markdown",
   "metadata": {},
   "source": [
    "##### Stack Class"
   ]
  },
  {
   "cell_type": "code",
   "execution_count": 1,
   "metadata": {},
   "outputs": [],
   "source": [
    "class Stack: \n",
    "    def __init__(self):\n",
    "        self.stack = []\n",
    "    \n",
    "    def push(self, data):\n",
    "        if data not in self.stack:\n",
    "            self.stack.append(data)\n",
    "            return True\n",
    "        else:\n",
    "            return False\n",
    "    \n",
    "    def pop(self):\n",
    "        if len(self.stack) <= 0:\n",
    "            return (\"No elements in the stack\")\n",
    "        else:\n",
    "            return self.stack.pop()\n",
    "\n",
    "    def top(self):\n",
    "        return self.stack[-1]"
   ]
  },
  {
   "cell_type": "markdown",
   "metadata": {},
   "source": [
    "##### Main Class"
   ]
  },
  {
   "cell_type": "code",
   "execution_count": 2,
   "metadata": {},
   "outputs": [
    {
     "name": "stdout",
     "output_type": "stream",
     "text": [
      "Tue\n",
      "Thu\n",
      "Thu\n",
      "Wed\n"
     ]
    }
   ],
   "source": [
    "def main():\n",
    "    A = Stack()\n",
    "    A.push(\"Mon\")\n",
    "    A.push(\"Tue\")\n",
    "    A.top()\n",
    "    print(A.top())\n",
    "    A.push(\"Wed\")\n",
    "    A.push(\"Thu\")\n",
    "    print(A.top())\n",
    "    print(A.pop())\n",
    "    print(A.top())\n",
    "\n",
    "if __name__ == '__main__':\n",
    "    main()"
   ]
  }
 ],
 "metadata": {
  "interpreter": {
   "hash": "cf32b4f69c54e9c863acccea1de3d06ac54c2fb2e0fc81f8bc9e3d09ff7ef19d"
  },
  "kernelspec": {
   "display_name": "Python 3.9.7 64-bit ('base': conda)",
   "language": "python",
   "name": "python3"
  },
  "language_info": {
   "codemirror_mode": {
    "name": "ipython",
    "version": 3
   },
   "file_extension": ".py",
   "mimetype": "text/x-python",
   "name": "python",
   "nbconvert_exporter": "python",
   "pygments_lexer": "ipython3",
   "version": "3.9.7"
  },
  "orig_nbformat": 4
 },
 "nbformat": 4,
 "nbformat_minor": 2
}
