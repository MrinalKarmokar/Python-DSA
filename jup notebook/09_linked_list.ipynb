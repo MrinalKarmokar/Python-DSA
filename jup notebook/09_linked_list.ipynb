{
 "cells": [
  {
   "cell_type": "markdown",
   "metadata": {},
   "source": [
    "# Linked List"
   ]
  },
  {
   "cell_type": "markdown",
   "metadata": {},
   "source": [
    "Arrays can be used to store linear data of similar types, but arrays have the following limitations. \n",
    "1) The size of the arrays is fixed\n",
    "2) Inserting a new element in an array of elements is expensive because the room has to be created for the new elements and to create room existing elements have to be shifted.\n",
    "\n",
    "<b>Advantages</b> over arrays \n",
    "1) Dynamic size \n",
    "2) Ease of insertion/deletion\n",
    "\n",
    "<b>Drawbacks</b>: \n",
    "1) Random access is not allowed. We have to access elements sequentially starting from the first node.\n",
    "2) Extra memory space for a pointer is required with each element of the list. \n",
    "3) Not cache friendly. Since array elements are contiguous locations, there is locality of reference which is not there in case of linked lists.\n",
    "\n",
    "The <b>functions</b> associated with linked list are:\n",
    "1) <b>llistprint()</b>: prints all the data of the linked list\n",
    "2) <b>atBegining(newdata)</b>: adds 'newdata' node at the begining of the linked list\n",
    "3) <b>addBefore(targetNode, newdata)</b>: adds 'newdata' node before the 'targetNode' node in a linked list\n",
    "4) <b>atEnd(newdata)</b>: adds 'newdata' node at the end of the linked list\n",
    "5) <b>removeNode(targetNode)</b>: removes 'targetNode' node from the linked list"
   ]
  },
  {
   "cell_type": "markdown",
   "metadata": {},
   "source": [
    "#### Node Class"
   ]
  },
  {
   "cell_type": "code",
   "execution_count": 17,
   "metadata": {},
   "outputs": [],
   "source": [
    "class Node:\n",
    "    def __init__(self, data=None):\n",
    "        self.data = data\n",
    "        self.next = None"
   ]
  },
  {
   "cell_type": "markdown",
   "metadata": {},
   "source": [
    "#### Linked list Class"
   ]
  },
  {
   "cell_type": "code",
   "execution_count": 18,
   "metadata": {},
   "outputs": [],
   "source": [
    "class LinkedList:\n",
    "    def __init__(self):\n",
    "        self.head = None\n",
    "    \n",
    "    def llistprint(self):\n",
    "        node = self.head\n",
    "        while node is not None:\n",
    "            print(node.data)\n",
    "            node = node.next\n",
    "    \n",
    "    def atBegining(self, newdata):\n",
    "        NewNode = Node(newdata)\n",
    "        NewNode.next = self.head\n",
    "        self.head = NewNode\n",
    "    \n",
    "    def addBefore(self, targetNode, newdata):\n",
    "        if self.head is None:\n",
    "            raise Exception(\"List is empty\")\n",
    "        \n",
    "        if self.head.data == targetNode:\n",
    "            self.head = self.head.next\n",
    "            return self.atBegining(newdata)\n",
    "\n",
    "        prevNode = self.head\n",
    "        for node in self:\n",
    "            if node.data == targetNode:\n",
    "                prevNode.next = newdata\n",
    "                newdata.next = node\n",
    "                return\n",
    "            prevNode = node\n",
    "        \n",
    "        raise Exception(\"Node with data {} not found\".format(targetNode))\n",
    "    \n",
    "    def atEnd(self, newdata):\n",
    "        NewNode = Node(newdata)\n",
    "        if self.head is None:\n",
    "            self.head =NewNode\n",
    "            return\n",
    "\n",
    "        laste = self.head\n",
    "\n",
    "        while laste.next:\n",
    "            laste = laste.next\n",
    "        laste.next = NewNode\n",
    "    \n",
    "    def removeNode(self, targetNode):\n",
    "        if self.head is Node:\n",
    "            raise Exception(\"List is Empty\")\n",
    "        \n",
    "        if self.head.data == targetNode:\n",
    "            self.head = self.head.next\n",
    "            return\n",
    "        \n",
    "        previousNode = self.head\n",
    "        for node in self:\n",
    "            if node.data == targetNode:\n",
    "                previousNode.next = node.next\n",
    "                return\n",
    "            previousNode = node\n",
    "\n",
    "        raise Exception(\"Node with data {} not found\".format(targetNode))"
   ]
  },
  {
   "cell_type": "markdown",
   "metadata": {},
   "source": [
    "#### Main function"
   ]
  },
  {
   "cell_type": "code",
   "execution_count": 19,
   "metadata": {},
   "outputs": [
    {
     "name": "stdout",
     "output_type": "stream",
     "text": [
      "<__main__.Node object at 0x000002B8213C2160>\n",
      "Mon\n",
      "Tue\n",
      "Wed\n",
      "Sat\n"
     ]
    }
   ],
   "source": [
    "def main():\n",
    "    llist = LinkedList()\n",
    "    llist.head = Node(\"Mon\")\n",
    "    e2 = Node(\"Tue\")\n",
    "    e3 = Node(\"Wed\")\n",
    "\n",
    "    llist.head.next = e2\n",
    "    e2.next = e3\n",
    "\n",
    "    llist.atBegining(\"Sun\")\n",
    "    llist.addBefore(\"Sun\",Node(\"2\"))\n",
    "    llist.atEnd(\"Sat\")\n",
    "    llist.llistprint()\n",
    "\n",
    "if __name__ == '__main__':\n",
    "    main()"
   ]
  }
 ],
 "metadata": {
  "interpreter": {
   "hash": "cf32b4f69c54e9c863acccea1de3d06ac54c2fb2e0fc81f8bc9e3d09ff7ef19d"
  },
  "kernelspec": {
   "display_name": "Python 3 (ipykernel)",
   "language": "python",
   "name": "python3"
  },
  "language_info": {
   "codemirror_mode": {
    "name": "ipython",
    "version": 3
   },
   "file_extension": ".py",
   "mimetype": "text/x-python",
   "name": "python",
   "nbconvert_exporter": "python",
   "pygments_lexer": "ipython3",
   "version": "3.9.7"
  }
 },
 "nbformat": 4,
 "nbformat_minor": 2
}
