{
 "cells": [
  {
   "cell_type": "markdown",
   "metadata": {},
   "source": [
    "#"
   ]
  },
  {
   "cell_type": "markdown",
   "metadata": {},
   "source": [
    "# Heap"
   ]
  },
  {
   "cell_type": "markdown",
   "metadata": {},
   "source": [
    "Heap is a special tree structure in which each parent node is less than or equal to its child node. Then it is called a <b>Min Heap</b>. If each parent node is greater than or equal to its child node then it is called a <b>Max heap</b>."
   ]
  },
  {
   "cell_type": "markdown",
   "metadata": {},
   "source": [
    "The functions associated with Heap are:\n",
    "1) <b>heapify</b> − This function converts a regular list to a heap. In the resulting heap the smallest element gets pushed to the index position 0. But rest of the data elements are not necessarily sorted.\n",
    "2) <b>heappush</b> − This function adds an element to the heap without altering the current heap.\n",
    "3) <b>heappop</b> − This function returns the smallest data element from the heap.\n",
    "4) <b>heapreplace</b> − This function replaces the smallest data element with a new value supplied in the function."
   ]
  },
  {
   "cell_type": "markdown",
   "metadata": {},
   "source": [
    "##### Creating a heap"
   ]
  },
  {
   "cell_type": "markdown",
   "metadata": {},
   "source": [
    "Importing heapq module"
   ]
  },
  {
   "cell_type": "code",
   "execution_count": 9,
   "metadata": {},
   "outputs": [],
   "source": [
    "import heapq"
   ]
  },
  {
   "cell_type": "markdown",
   "metadata": {},
   "source": [
    "#### Converting list to a heap"
   ]
  },
  {
   "cell_type": "code",
   "execution_count": 10,
   "metadata": {},
   "outputs": [
    {
     "name": "stdout",
     "output_type": "stream",
     "text": [
      "[1, 3, 5, 27, 21, 45, 69, 78, 31]\n"
     ]
    }
   ],
   "source": [
    "H = [21,1,45,78,3,5,69,27,31]\n",
    "\n",
    "heapq.heapify(H)\n",
    "print(H)"
   ]
  },
  {
   "cell_type": "markdown",
   "metadata": {},
   "source": [
    "#### Adding element"
   ]
  },
  {
   "cell_type": "code",
   "execution_count": 11,
   "metadata": {},
   "outputs": [
    {
     "name": "stdout",
     "output_type": "stream",
     "text": [
      "[1, 3, 5, 27, 8, 45, 69, 78, 31, 21]\n"
     ]
    }
   ],
   "source": [
    "heapq.heappush(H,8)\n",
    "print(H)"
   ]
  },
  {
   "cell_type": "markdown",
   "metadata": {},
   "source": [
    "#### Removing element from the heap"
   ]
  },
  {
   "cell_type": "code",
   "execution_count": 12,
   "metadata": {},
   "outputs": [
    {
     "name": "stdout",
     "output_type": "stream",
     "text": [
      "[3, 8, 5, 27, 21, 45, 69, 78, 31]\n"
     ]
    }
   ],
   "source": [
    "heapq.heappop(H)\n",
    "print(H)"
   ]
  },
  {
   "cell_type": "markdown",
   "metadata": {},
   "source": [
    "#### Replacing in heap\n",
    "The heap replace function always removes the smallest element of the heap and inserts the new incoming element at some place not fixed by any order"
   ]
  },
  {
   "cell_type": "code",
   "execution_count": 13,
   "metadata": {},
   "outputs": [
    {
     "name": "stdout",
     "output_type": "stream",
     "text": [
      "[5, 8, 6, 27, 21, 45, 69, 78, 31]\n"
     ]
    }
   ],
   "source": [
    "heapq.heapreplace(H,6)\n",
    "print(H)"
   ]
  }
 ],
 "metadata": {
  "interpreter": {
   "hash": "cf32b4f69c54e9c863acccea1de3d06ac54c2fb2e0fc81f8bc9e3d09ff7ef19d"
  },
  "kernelspec": {
   "display_name": "Python 3.9.7 64-bit ('base': conda)",
   "language": "python",
   "name": "python3"
  },
  "language_info": {
   "codemirror_mode": {
    "name": "ipython",
    "version": 3
   },
   "file_extension": ".py",
   "mimetype": "text/x-python",
   "name": "python",
   "nbconvert_exporter": "python",
   "pygments_lexer": "ipython3",
   "version": "3.9.7"
  },
  "orig_nbformat": 4
 },
 "nbformat": 4,
 "nbformat_minor": 2
}
