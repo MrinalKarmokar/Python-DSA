{
 "cells": [
  {
   "cell_type": "markdown",
   "metadata": {},
   "source": [
    "# Double Ended Queue (De-queue)"
   ]
  },
  {
   "cell_type": "markdown",
   "metadata": {},
   "source": [
    " Deque is preferred over a list in the cases where we need quicker append and pop operations from both the ends of the container, as <b>deque provides an O(1) time complexity for append and pop operations as compared to list which provides O(n) time complexity</b>."
   ]
  },
  {
   "cell_type": "markdown",
   "metadata": {},
   "source": [
    "Import modules"
   ]
  },
  {
   "cell_type": "code",
   "execution_count": 7,
   "metadata": {},
   "outputs": [],
   "source": [
    "import collections"
   ]
  },
  {
   "cell_type": "markdown",
   "metadata": {},
   "source": [
    "#### Creation of DoubleEnded Queue"
   ]
  },
  {
   "cell_type": "code",
   "execution_count": 8,
   "metadata": {},
   "outputs": [],
   "source": [
    "DoubleEnded = collections.deque([\"Mon\",\"Tue\",\"Wed\"])"
   ]
  },
  {
   "cell_type": "markdown",
   "metadata": {},
   "source": [
    "#### Append from right of the queue"
   ]
  },
  {
   "cell_type": "code",
   "execution_count": 9,
   "metadata": {},
   "outputs": [
    {
     "name": "stdout",
     "output_type": "stream",
     "text": [
      "Appended at right: ['Mon', 'Tue', 'Wed', 'Thu']\n"
     ]
    }
   ],
   "source": [
    "DoubleEnded.append(\"Thu\")\n",
    "print(f\"Appended at right: {list(DoubleEnded)}\")"
   ]
  },
  {
   "cell_type": "markdown",
   "metadata": {},
   "source": [
    "#### Append from left of the queue"
   ]
  },
  {
   "cell_type": "code",
   "execution_count": 10,
   "metadata": {},
   "outputs": [
    {
     "name": "stdout",
     "output_type": "stream",
     "text": [
      "Appended at right at left is: ['Sun', 'Mon', 'Tue', 'Wed', 'Thu']\n"
     ]
    }
   ],
   "source": [
    "DoubleEnded.appendleft(\"Sun\")\n",
    "print(f\"Appended at right at left is: {list(DoubleEnded)}\")"
   ]
  },
  {
   "cell_type": "markdown",
   "metadata": {},
   "source": [
    "#### Pop from the right"
   ]
  },
  {
   "cell_type": "code",
   "execution_count": 11,
   "metadata": {},
   "outputs": [
    {
     "name": "stdout",
     "output_type": "stream",
     "text": [
      "Deleting from right: ['Sun', 'Mon', 'Tue', 'Wed']\n"
     ]
    }
   ],
   "source": [
    "DoubleEnded.pop()\n",
    "print (f\"Deleting from right: {list(DoubleEnded)}\")"
   ]
  },
  {
   "cell_type": "markdown",
   "metadata": {},
   "source": [
    "#### Pop from left"
   ]
  },
  {
   "cell_type": "code",
   "execution_count": 12,
   "metadata": {},
   "outputs": [
    {
     "name": "stdout",
     "output_type": "stream",
     "text": [
      "Deleting from left: ['Mon', 'Tue', 'Wed']\n"
     ]
    }
   ],
   "source": [
    "DoubleEnded.popleft()\n",
    "print (f\"Deleting from left: {list(DoubleEnded)}\")"
   ]
  }
 ],
 "metadata": {
  "interpreter": {
   "hash": "cf32b4f69c54e9c863acccea1de3d06ac54c2fb2e0fc81f8bc9e3d09ff7ef19d"
  },
  "kernelspec": {
   "display_name": "Python 3.9.7 64-bit ('base': conda)",
   "language": "python",
   "name": "python3"
  },
  "language_info": {
   "codemirror_mode": {
    "name": "ipython",
    "version": 3
   },
   "file_extension": ".py",
   "mimetype": "text/x-python",
   "name": "python",
   "nbconvert_exporter": "python",
   "pygments_lexer": "ipython3",
   "version": "3.9.7"
  },
  "orig_nbformat": 4
 },
 "nbformat": 4,
 "nbformat_minor": 2
}
