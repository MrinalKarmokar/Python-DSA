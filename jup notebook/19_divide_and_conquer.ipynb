{
 "cells": [
  {
   "cell_type": "markdown",
   "metadata": {},
   "source": [
    "# Divide and Conquer"
   ]
  },
  {
   "cell_type": "markdown",
   "metadata": {},
   "source": [
    "1) <b>Divide</b>: This involves dividing the problem into smaller sub-problems.\n",
    "2) <b>Conquer</b>: Solve sub-problems by calling recursively until solved.\n",
    "3) <b>Combine</b>: Combine the sub-problems to get the final solution of the whole problem."
   ]
  }
 ],
 "metadata": {
  "language_info": {
   "name": "python"
  },
  "orig_nbformat": 4
 },
 "nbformat": 4,
 "nbformat_minor": 2
}
